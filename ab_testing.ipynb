{
 "cells": [
  {
   "cell_type": "markdown",
   "metadata": {
    "toc": true
   },
   "source": [
    "<h1>Table of Contents<span class=\"tocSkip\"></span></h1>\n",
    "<div class=\"toc\"><ul class=\"toc-item\"><li><span><a href=\"#A/B-Testing\" data-toc-modified-id=\"A/B-Testing-1\"><span class=\"toc-item-num\">1&nbsp;&nbsp;</span>A/B Testing</a></span><ul class=\"toc-item\"><li><span><a href=\"#Outcomes\" data-toc-modified-id=\"Outcomes-1.1\"><span class=\"toc-item-num\">1.1&nbsp;&nbsp;</span>Outcomes</a></span></li><li><span><a href=\"#Example-1:-Canadian-Winter-Temperatures\" data-toc-modified-id=\"Example-1:-Canadian-Winter-Temperatures-1.2\"><span class=\"toc-item-num\">1.2&nbsp;&nbsp;</span>Example 1: Canadian Winter Temperatures</a></span><ul class=\"toc-item\"><li><span><a href=\"#Kernel-Density-Plots\" data-toc-modified-id=\"Kernel-Density-Plots-1.2.1\"><span class=\"toc-item-num\">1.2.1&nbsp;&nbsp;</span>Kernel Density Plots</a></span></li><li><span><a href=\"#Hypothesis-Test\" data-toc-modified-id=\"Hypothesis-Test-1.2.2\"><span class=\"toc-item-num\">1.2.2&nbsp;&nbsp;</span>Hypothesis Test</a></span></li><li><span><a href=\"#By-Hand\" data-toc-modified-id=\"By-Hand-1.2.3\"><span class=\"toc-item-num\">1.2.3&nbsp;&nbsp;</span>By Hand</a></span></li><li><span><a href=\"#In-One-Line!\" data-toc-modified-id=\"In-One-Line!-1.2.4\"><span class=\"toc-item-num\">1.2.4&nbsp;&nbsp;</span>In One Line!</a></span></li></ul></li><li><span><a href=\"#Example-2:-Online-Sales\" data-toc-modified-id=\"Example-2:-Online-Sales-1.3\"><span class=\"toc-item-num\">1.3&nbsp;&nbsp;</span>Example 2: Online Sales</a></span><ul class=\"toc-item\"><li><span><a href=\"#Question\" data-toc-modified-id=\"Question-1.3.1\"><span class=\"toc-item-num\">1.3.1&nbsp;&nbsp;</span>Question</a></span></li><li><span><a href=\"#Getting-the-Data\" data-toc-modified-id=\"Getting-the-Data-1.3.2\"><span class=\"toc-item-num\">1.3.2&nbsp;&nbsp;</span>Getting the Data</a></span></li><li><span><a href=\"#EDA\" data-toc-modified-id=\"EDA-1.3.3\"><span class=\"toc-item-num\">1.3.3&nbsp;&nbsp;</span>EDA</a></span></li><li><span><a href=\"#Experimental-Setup\" data-toc-modified-id=\"Experimental-Setup-1.3.4\"><span class=\"toc-item-num\">1.3.4&nbsp;&nbsp;</span>Experimental Setup</a></span></li><li><span><a href=\"#The-Hypotheses\" data-toc-modified-id=\"The-Hypotheses-1.3.5\"><span class=\"toc-item-num\">1.3.5&nbsp;&nbsp;</span>The Hypotheses</a></span></li><li><span><a href=\"#Setting-a-Threshold\" data-toc-modified-id=\"Setting-a-Threshold-1.3.6\"><span class=\"toc-item-num\">1.3.6&nbsp;&nbsp;</span>Setting a Threshold</a></span></li><li><span><a href=\"#Preparing-Fisher's-Test\" data-toc-modified-id=\"Preparing-Fisher's-Test-1.3.7\"><span class=\"toc-item-num\">1.3.7&nbsp;&nbsp;</span>Preparing Fisher's Test</a></span></li><li><span><a href=\"#Calculation\" data-toc-modified-id=\"Calculation-1.3.8\"><span class=\"toc-item-num\">1.3.8&nbsp;&nbsp;</span>Calculation</a></span></li></ul></li><li><span><a href=\"#Exercise\" data-toc-modified-id=\"Exercise-1.4\"><span class=\"toc-item-num\">1.4&nbsp;&nbsp;</span>Exercise</a></span></li></ul></li></ul></div>"
   ]
  },
  {
   "cell_type": "markdown",
   "metadata": {},
   "source": [
    "# A/B Testing"
   ]
  },
  {
   "cell_type": "code",
   "execution_count": null,
   "metadata": {
    "_cell_guid": "b1076dfc-b9ad-4769-8c92-a6c4dae69d19",
    "_uuid": "8f2839f25d086af736a60e9eeb907d3b93b6e0e5"
   },
   "outputs": [],
   "source": [
    "import numpy as np\n",
    "import pandas as pd\n",
    "from scipy.special import comb\n",
    "from scipy import stats\n",
    "import seaborn as sns"
   ]
  },
  {
   "cell_type": "markdown",
   "metadata": {},
   "source": [
    "## Outcomes\n",
    "\n",
    "- Describe what an A/B Test is:\n",
    "    - When it is used\n",
    "    - What forms it may take\n",
    "- Conduct an A/B Test in Python using `scipy`"
   ]
  },
  {
   "cell_type": "markdown",
   "metadata": {},
   "source": [
    "\n",
    "A/B Testing is really just a form of hypothesis testing applied to a business problem. And so it can take [many forms](https://en.wikipedia.org/wiki/A/B_testing).\n",
    "\n",
    "The classic form of A/B Testing is exposing customers to two different versions of a website (the A and B versions) and then conducting a hypothesis test to see if their behavior is significantly different between the two versions.\n",
    "\n",
    "Even limited to this context, there are [many](https://neilpatel.com/blog/19-obvious-ab-tests/) tests one might run!\n",
    "\n",
    "We'll try a couple examples of A/B Testing here.\n",
    "\n",
    "To start we'll try two examples with fake data:"
   ]
  },
  {
   "cell_type": "markdown",
   "metadata": {},
   "source": [
    "## Example 1: Canadian Winter Temperatures"
   ]
  },
  {
   "cell_type": "code",
   "execution_count": null,
   "metadata": {},
   "outputs": [],
   "source": [
    "a1 = pd.read_csv('fake_data/a1.csv', usecols=['target'])\n",
    "b1 = pd.read_csv('fake_data/b1.csv', usecols=['target'])"
   ]
  },
  {
   "cell_type": "code",
   "execution_count": null,
   "metadata": {},
   "outputs": [],
   "source": [
    "a1.head()"
   ]
  },
  {
   "cell_type": "code",
   "execution_count": null,
   "metadata": {},
   "outputs": [],
   "source": [
    "b1.head()"
   ]
  },
  {
   "cell_type": "markdown",
   "metadata": {},
   "source": [
    "### Kernel Density Plots"
   ]
  },
  {
   "cell_type": "code",
   "execution_count": null,
   "metadata": {},
   "outputs": [],
   "source": [
    "sns.kdeplot(a1['target']);"
   ]
  },
  {
   "cell_type": "code",
   "execution_count": null,
   "metadata": {
    "scrolled": true
   },
   "outputs": [],
   "source": [
    "sns.kdeplot(b1['target']);"
   ]
  },
  {
   "cell_type": "markdown",
   "metadata": {},
   "source": [
    "### Hypothesis Test\n",
    "\n",
    "The data here represent average winter temperatures at various locations in Canada, and the question is whether the temperatures in Group A are lower than temperatures in Group B.\n",
    "\n",
    "**Null hypothesis**: The temperatures in Group A are not lower than the temperatures in Group B.\n",
    "\n",
    "**Alternative hypothesis**: The temperatures in Group A are lower than the temperatures in Group B."
   ]
  },
  {
   "cell_type": "markdown",
   "metadata": {},
   "source": [
    "### By Hand\n",
    "First let's try this by hand, assuming a $t$-distribution, and setting an $\\alpha$ threshold of 0.02:\n",
    "\n",
    "We'll start by calculating the pooled variance:\n",
    "- $\\Large s^2_P=\\frac{(n_1-1)s^2_1 - (n_2-1)s^2_2}{n_1+n_2-2}$."
   ]
  },
  {
   "cell_type": "code",
   "execution_count": null,
   "metadata": {},
   "outputs": [],
   "source": [
    "var_pooled = ((len(a1)-1) * a1.var() - (len(b1)-1) * b1.var()) / (len(a1) + len(b1) - 2)\n",
    "var_pooled"
   ]
  },
  {
   "cell_type": "markdown",
   "metadata": {},
   "source": [
    "Now we calculate the $t$-statistic:\n",
    "- $\\Large t=\\frac{\\bar{x_1} - \\bar{x_2}}{s^2_P\\sqrt{\\frac{1}{n_1} + \\frac{1}{n_2}}}$"
   ]
  },
  {
   "cell_type": "code",
   "execution_count": null,
   "metadata": {},
   "outputs": [],
   "source": [
    "t = (a1.mean() - b1.mean()) / (var_pooled * np.sqrt(1/len(a1) + 1/len(b1)))\n",
    "t"
   ]
  },
  {
   "cell_type": "markdown",
   "metadata": {},
   "source": [
    "And the critical $t$-stat is:"
   ]
  },
  {
   "cell_type": "code",
   "execution_count": null,
   "metadata": {},
   "outputs": [],
   "source": [
    "stats.t.ppf(0.99, df=len(a1)+len(b1)-2)"
   ]
  },
  {
   "cell_type": "markdown",
   "metadata": {},
   "source": [
    "### In One Line!"
   ]
  },
  {
   "cell_type": "code",
   "execution_count": null,
   "metadata": {},
   "outputs": [],
   "source": [
    "stats.ttest_ind(a1, b1, equal_var=False).pvalue"
   ]
  },
  {
   "cell_type": "markdown",
   "metadata": {},
   "source": [
    "## Example 2: Online Sales\n",
    "\n",
    "Now let's try a binomial A/B Test (where the variable of interest is binary). We can use [Fisher's exact test](https://en.wikipedia.org/wiki/Fisher%27s_exact_test)."
   ]
  },
  {
   "cell_type": "markdown",
   "metadata": {},
   "source": [
    "### Question\n",
    "\n",
    "We have data about whether customers completed sales transactions, segregated by the type of ad banners to which the customers were exposed.\n",
    "\n",
    "The question we want to answer is whether there was any difference in sales \"conversions\" between desktop customers who saw the sneakers banner and desktop customers who saw the accessories banner in the month of May 2019."
   ]
  },
  {
   "cell_type": "markdown",
   "metadata": {},
   "source": [
    "### Getting the Data\n",
    "\n",
    "First let's download the data from [kaggle](https://www.kaggle.com/podsyp/how-to-do-product-analytics) via the release page of this repo: https://github.com/flatiron-school/ds-ab_testing/releases "
   ]
  },
  {
   "cell_type": "code",
   "execution_count": null,
   "metadata": {
    "_cell_guid": "79c7e3d0-c299-4dcb-8224-4455121ee9b0",
    "_uuid": "d629ff2d2480ee46fbb7e2d37f6b5fab8052498a"
   },
   "outputs": [],
   "source": [
    "# This will download the data from online so it can take some time (but relatively small download)\n",
    "df = pd.read_csv('https://github.com/flatiron-school/ds-ab_testing/releases/download/v1.2/products_small.csv')"
   ]
  },
  {
   "cell_type": "code",
   "execution_count": null,
   "metadata": {},
   "outputs": [],
   "source": [
    "df.head()"
   ]
  },
  {
   "cell_type": "code",
   "execution_count": null,
   "metadata": {},
   "outputs": [],
   "source": [
    "df.info()"
   ]
  },
  {
   "cell_type": "markdown",
   "metadata": {},
   "source": [
    "### EDA\n",
    "\n",
    "Lets's look at the different banner types:"
   ]
  },
  {
   "cell_type": "code",
   "execution_count": null,
   "metadata": {
    "scrolled": true
   },
   "outputs": [],
   "source": [
    "df['product'].value_counts()"
   ]
  },
  {
   "cell_type": "code",
   "execution_count": null,
   "metadata": {},
   "outputs": [],
   "source": [
    "df.groupby('product')['target'].value_counts()"
   ]
  },
  {
   "cell_type": "markdown",
   "metadata": {},
   "source": [
    "Let's look at the range of time-stamps on these data:"
   ]
  },
  {
   "cell_type": "code",
   "execution_count": null,
   "metadata": {},
   "outputs": [],
   "source": [
    "df['time'].min()"
   ]
  },
  {
   "cell_type": "code",
   "execution_count": null,
   "metadata": {},
   "outputs": [],
   "source": [
    "df['time'].max()"
   ]
  },
  {
   "cell_type": "markdown",
   "metadata": {},
   "source": [
    "Let's check the counts of the different site_version values:"
   ]
  },
  {
   "cell_type": "code",
   "execution_count": null,
   "metadata": {
    "scrolled": true
   },
   "outputs": [],
   "source": [
    "df['site_version'].value_counts()"
   ]
  },
  {
   "cell_type": "code",
   "execution_count": null,
   "metadata": {},
   "outputs": [],
   "source": [
    "df['title'].value_counts()"
   ]
  },
  {
   "cell_type": "code",
   "execution_count": null,
   "metadata": {},
   "outputs": [],
   "source": [
    "df.groupby('title').agg({'target': 'mean'})"
   ]
  },
  {
   "cell_type": "markdown",
   "metadata": {},
   "source": [
    "### Experimental Setup\n",
    "\n",
    "We need to filter by site_version, time, and product:"
   ]
  },
  {
   "cell_type": "code",
   "execution_count": null,
   "metadata": {},
   "outputs": [],
   "source": [
    "df_AB = df[(df['site_version'] == 'desktop') &\n",
    "           (df['time'] >= '2019-05-01') &\n",
    "           ((df['product'] == 'accessories') | (df['product'] == 'sneakers'))].reset_index(drop = True)"
   ]
  },
  {
   "cell_type": "code",
   "execution_count": null,
   "metadata": {
    "scrolled": true
   },
   "outputs": [],
   "source": [
    "df_AB.tail()"
   ]
  },
  {
   "cell_type": "markdown",
   "metadata": {},
   "source": [
    "### The Hypotheses\n",
    "\n",
    "NULL: Customers who saw the sneakers banner were no more or less likely to buy than customers who saw the accessories banner.\n",
    "\n",
    "ALTERNATIVE: Customers who saw the sneakers banner were more or less likely to buy than customers who saw the accessories banner."
   ]
  },
  {
   "cell_type": "markdown",
   "metadata": {},
   "source": [
    "### Setting a Threshold\n",
    "\n",
    "We'll set a false-positive rate of $\\alpha = 0.05$."
   ]
  },
  {
   "cell_type": "markdown",
   "metadata": {},
   "source": [
    "### Preparing Fisher's Test\n",
    "\n",
    "Fisher's Test is an exact calculation of a $p$-value that requires four quantities: the respective numbers of 1's and 0's for each class."
   ]
  },
  {
   "cell_type": "code",
   "execution_count": null,
   "metadata": {},
   "outputs": [],
   "source": [
    "df_A = df_AB[df_AB['product'] == 'accessories']\n",
    "df_B = df_AB[df_AB['product'] == 'sneakers']"
   ]
  },
  {
   "cell_type": "markdown",
   "metadata": {},
   "source": [
    "We calculate values in a 2x2 table: the numbers of people who did or did not submit orders, both for the accessories banner and thesneakers banner. "
   ]
  },
  {
   "cell_type": "code",
   "execution_count": null,
   "metadata": {},
   "outputs": [],
   "source": [
    "accessories_orders = sum(df_A['target'])\n",
    "sneakers_orders = sum(df_B['target'])\n",
    "\n",
    "accessories_orders, sneakers_orders"
   ]
  },
  {
   "cell_type": "markdown",
   "metadata": {},
   "source": [
    "To get the numbers of people who didn't submit orders, we get the total number of people who were shown banners and then subtract the numbers of people who did make orders."
   ]
  },
  {
   "cell_type": "code",
   "execution_count": null,
   "metadata": {},
   "outputs": [],
   "source": [
    "accessories_total = sum(df_A['title'] == 'banner_show')\n",
    "sneakers_total = sum(df_B['title'] == 'banner_show')\n",
    "\n",
    "accessories_no_orders = accessories_total - accessories_orders\n",
    "sneakers_no_orders = sneakers_total - sneakers_orders\n",
    "\n",
    "accessories_no_orders, sneakers_no_orders"
   ]
  },
  {
   "cell_type": "markdown",
   "metadata": {},
   "source": [
    "### Calculation\n",
    "\n",
    "Fisher's Test tells us that the $p$-value corresponding to our distribution is given by:\n",
    "\n",
    "$\\Large p = \\frac{(a+b)!(c+d)!(a+c)!(b+d)!}{a!b!c!d!n!}$"
   ]
  },
  {
   "cell_type": "code",
   "execution_count": null,
   "metadata": {},
   "outputs": [],
   "source": [
    "a = accessories_orders\n",
    "b = sneakers_orders\n",
    "c = accessories_no_orders\n",
    "d = sneakers_no_orders"
   ]
  },
  {
   "cell_type": "code",
   "execution_count": null,
   "metadata": {},
   "outputs": [],
   "source": [
    "ab_choose_a = comb(a+b, a, exact=True)"
   ]
  },
  {
   "cell_type": "code",
   "execution_count": null,
   "metadata": {},
   "outputs": [],
   "source": [
    "cd_choose_c = comb(c+d, c, exact=True)"
   ]
  },
  {
   "cell_type": "code",
   "execution_count": null,
   "metadata": {},
   "outputs": [],
   "source": [
    "n_choose_ac = comb(a+b+c+d, a+c, exact=True)"
   ]
  },
  {
   "cell_type": "code",
   "execution_count": null,
   "metadata": {},
   "outputs": [],
   "source": [
    "p = ab_choose_a * cd_choose_c / n_choose_ac\n",
    "p"
   ]
  },
  {
   "cell_type": "markdown",
   "metadata": {},
   "source": [
    "Comparing with `stats.fisher_exact()`:"
   ]
  },
  {
   "cell_type": "code",
   "execution_count": null,
   "metadata": {
    "scrolled": true
   },
   "outputs": [],
   "source": [
    "stats.fisher_exact(np.array([[a, b], [c, d]]))"
   ]
  },
  {
   "cell_type": "markdown",
   "metadata": {},
   "source": [
    "This extremely low $p$-value suggests that these two groups are genuinely performing differently. In particular, the desktop customers who saw the sneakers banner in May 2019 bought at a higher rate than the desktop customers who saw the accessories banner in May 2019."
   ]
  },
  {
   "cell_type": "markdown",
   "metadata": {},
   "source": [
    "## Exercise\n",
    "\n",
    "Same question as before, but this time for April 2019 instead of May! Use a threshold of 0.05."
   ]
  },
  {
   "cell_type": "code",
   "execution_count": null,
   "metadata": {},
   "outputs": [],
   "source": [
    "\n",
    "\n"
   ]
  },
  {
   "cell_type": "code",
   "execution_count": null,
   "metadata": {},
   "outputs": [],
   "source": [
    "\n",
    "\n"
   ]
  }
 ],
 "metadata": {
  "kernelspec": {
   "display_name": "Python 3",
   "language": "python",
   "name": "python3"
  },
  "language_info": {
   "codemirror_mode": {
    "name": "ipython",
    "version": 3
   },
   "file_extension": ".py",
   "mimetype": "text/x-python",
   "name": "python",
   "nbconvert_exporter": "python",
   "pygments_lexer": "ipython3",
   "version": "3.8.5"
  },
  "toc": {
   "base_numbering": 1,
   "nav_menu": {},
   "number_sections": true,
   "sideBar": true,
   "skip_h1_title": false,
   "title_cell": "Table of Contents",
   "title_sidebar": "TOC",
   "toc_cell": true,
   "toc_position": {
    "height": "calc(100% - 180px)",
    "left": "10px",
    "top": "150px",
    "width": "288px"
   },
   "toc_section_display": true,
   "toc_window_display": true
  }
 },
 "nbformat": 4,
 "nbformat_minor": 4
}
