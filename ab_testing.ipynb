{
 "cells": [
  {
   "cell_type": "markdown",
   "metadata": {},
   "source": [
    "# A/B Testing"
   ]
  },
  {
   "cell_type": "code",
   "execution_count": 40,
   "metadata": {
    "_cell_guid": "b1076dfc-b9ad-4769-8c92-a6c4dae69d19",
    "_uuid": "8f2839f25d086af736a60e9eeb907d3b93b6e0e5"
   },
   "outputs": [],
   "source": [
    "import numpy as np\n",
    "import pandas as pd\n",
    "from scipy.special import comb"
   ]
  },
  {
   "cell_type": "markdown",
   "metadata": {},
   "source": [
    "A/B Testing is really just a form of hypothesis testing applied to a business problem. And so it can take [many forms](https://en.wikipedia.org/wiki/A/B_testing).\n",
    "\n",
    "The classic form of A/B Testing is exposing customers to two different versions of a website (the A and B versions) and then conducting a hypothesis test to see if their behavior is significantly different between the two versions.\n",
    "\n",
    "We'll try a couple examples here:"
   ]
  },
  {
   "cell_type": "markdown",
   "metadata": {},
   "source": [
    "## Example 1: Online Sales\n",
    "\n",
    "First let's try a binomial A/B Test (where the variable of interest is binomial). We can use [Fisher's exact test](https://en.wikipedia.org/wiki/Fisher%27s_exact_test)."
   ]
  },
  {
   "cell_type": "markdown",
   "metadata": {},
   "source": [
    "### Question\n",
    "\n",
    "We have data about whether customers completed sales transactions, segregated by the type of ad banners to which the customers were exposed.\n",
    "\n",
    "The question we want to answer is whether there was any difference in sales \"conversions\" between desktop customers who saw the sneakers banner and desktop customers who saw the accessories banner in the month of May 2019."
   ]
  },
  {
   "cell_type": "markdown",
   "metadata": {},
   "source": [
    "### Getting the Data\n",
    "\n",
    "First let's download the data from [kaggle](https://www.kaggle.com/podsyp/how-to-do-product-analytics)."
   ]
  },
  {
   "cell_type": "code",
   "execution_count": 8,
   "metadata": {},
   "outputs": [
    {
     "name": "stdout",
     "output_type": "stream",
     "text": [
      "Archive:  /Users/gdamico/Downloads/product.csv.zip\n",
      "  inflating: product.csv             \n"
     ]
    }
   ],
   "source": [
    "#!unzip /Users/gdamico/Downloads/product.csv.zip"
   ]
  },
  {
   "cell_type": "code",
   "execution_count": 9,
   "metadata": {},
   "outputs": [],
   "source": [
    "#!mkdir data"
   ]
  },
  {
   "cell_type": "code",
   "execution_count": 11,
   "metadata": {},
   "outputs": [],
   "source": [
    "#!mv /Users/gdamico/Downloads/product.csv data"
   ]
  },
  {
   "cell_type": "markdown",
   "metadata": {},
   "source": [
    "Let's go ahead and amend the `.gitignore` file now so that we don't accidentally add the data to our next commit."
   ]
  },
  {
   "cell_type": "code",
   "execution_count": 17,
   "metadata": {},
   "outputs": [],
   "source": [
    "#!(echo ; echo \"# data\"; echo \"*.csv\") >> .gitignore"
   ]
  },
  {
   "cell_type": "code",
   "execution_count": 3,
   "metadata": {
    "_cell_guid": "79c7e3d0-c299-4dcb-8224-4455121ee9b0",
    "_uuid": "d629ff2d2480ee46fbb7e2d37f6b5fab8052498a"
   },
   "outputs": [],
   "source": [
    "df = pd.read_csv('data/product.csv')"
   ]
  },
  {
   "cell_type": "code",
   "execution_count": 4,
   "metadata": {},
   "outputs": [
    {
     "data": {
      "text/html": [
       "<div>\n",
       "<style scoped>\n",
       "    .dataframe tbody tr th:only-of-type {\n",
       "        vertical-align: middle;\n",
       "    }\n",
       "\n",
       "    .dataframe tbody tr th {\n",
       "        vertical-align: top;\n",
       "    }\n",
       "\n",
       "    .dataframe thead th {\n",
       "        text-align: right;\n",
       "    }\n",
       "</style>\n",
       "<table border=\"1\" class=\"dataframe\">\n",
       "  <thead>\n",
       "    <tr style=\"text-align: right;\">\n",
       "      <th></th>\n",
       "      <th>order_id</th>\n",
       "      <th>user_id</th>\n",
       "      <th>page_id</th>\n",
       "      <th>product</th>\n",
       "      <th>site_version</th>\n",
       "      <th>time</th>\n",
       "      <th>title</th>\n",
       "      <th>target</th>\n",
       "    </tr>\n",
       "  </thead>\n",
       "  <tbody>\n",
       "    <tr>\n",
       "      <th>0</th>\n",
       "      <td>cfcd208495d565ef66e7dff9f98764da</td>\n",
       "      <td>c81e728d9d4c2f636f067f89cc14862c</td>\n",
       "      <td>6f4922f45568161a8cdf4ad2299f6d23</td>\n",
       "      <td>sneakers</td>\n",
       "      <td>desktop</td>\n",
       "      <td>2019-01-11 09:24:43</td>\n",
       "      <td>banner_click</td>\n",
       "      <td>0</td>\n",
       "    </tr>\n",
       "    <tr>\n",
       "      <th>1</th>\n",
       "      <td>c4ca4238a0b923820dcc509a6f75849b</td>\n",
       "      <td>eccbc87e4b5ce2fe28308fd9f2a7baf3</td>\n",
       "      <td>4e732ced3463d06de0ca9a15b6153677</td>\n",
       "      <td>sneakers</td>\n",
       "      <td>desktop</td>\n",
       "      <td>2019-01-09 09:38:51</td>\n",
       "      <td>banner_show</td>\n",
       "      <td>0</td>\n",
       "    </tr>\n",
       "    <tr>\n",
       "      <th>2</th>\n",
       "      <td>c81e728d9d4c2f636f067f89cc14862c</td>\n",
       "      <td>eccbc87e4b5ce2fe28308fd9f2a7baf3</td>\n",
       "      <td>5c45a86277b8bf17bff6011be5cfb1b9</td>\n",
       "      <td>sports_nutrition</td>\n",
       "      <td>desktop</td>\n",
       "      <td>2019-01-09 09:12:45</td>\n",
       "      <td>banner_show</td>\n",
       "      <td>0</td>\n",
       "    </tr>\n",
       "    <tr>\n",
       "      <th>3</th>\n",
       "      <td>eccbc87e4b5ce2fe28308fd9f2a7baf3</td>\n",
       "      <td>eccbc87e4b5ce2fe28308fd9f2a7baf3</td>\n",
       "      <td>fb339ad311d50a229e497085aad219c7</td>\n",
       "      <td>company</td>\n",
       "      <td>desktop</td>\n",
       "      <td>2019-01-03 08:58:18</td>\n",
       "      <td>banner_show</td>\n",
       "      <td>0</td>\n",
       "    </tr>\n",
       "    <tr>\n",
       "      <th>4</th>\n",
       "      <td>a87ff679a2f3e71d9181a67b7542122c</td>\n",
       "      <td>eccbc87e4b5ce2fe28308fd9f2a7baf3</td>\n",
       "      <td>fb339ad311d50a229e497085aad219c7</td>\n",
       "      <td>company</td>\n",
       "      <td>desktop</td>\n",
       "      <td>2019-01-03 08:59:15</td>\n",
       "      <td>banner_click</td>\n",
       "      <td>0</td>\n",
       "    </tr>\n",
       "  </tbody>\n",
       "</table>\n",
       "</div>"
      ],
      "text/plain": [
       "                           order_id                           user_id  \\\n",
       "0  cfcd208495d565ef66e7dff9f98764da  c81e728d9d4c2f636f067f89cc14862c   \n",
       "1  c4ca4238a0b923820dcc509a6f75849b  eccbc87e4b5ce2fe28308fd9f2a7baf3   \n",
       "2  c81e728d9d4c2f636f067f89cc14862c  eccbc87e4b5ce2fe28308fd9f2a7baf3   \n",
       "3  eccbc87e4b5ce2fe28308fd9f2a7baf3  eccbc87e4b5ce2fe28308fd9f2a7baf3   \n",
       "4  a87ff679a2f3e71d9181a67b7542122c  eccbc87e4b5ce2fe28308fd9f2a7baf3   \n",
       "\n",
       "                            page_id           product site_version  \\\n",
       "0  6f4922f45568161a8cdf4ad2299f6d23          sneakers      desktop   \n",
       "1  4e732ced3463d06de0ca9a15b6153677          sneakers      desktop   \n",
       "2  5c45a86277b8bf17bff6011be5cfb1b9  sports_nutrition      desktop   \n",
       "3  fb339ad311d50a229e497085aad219c7           company      desktop   \n",
       "4  fb339ad311d50a229e497085aad219c7           company      desktop   \n",
       "\n",
       "                  time         title  target  \n",
       "0  2019-01-11 09:24:43  banner_click       0  \n",
       "1  2019-01-09 09:38:51   banner_show       0  \n",
       "2  2019-01-09 09:12:45   banner_show       0  \n",
       "3  2019-01-03 08:58:18   banner_show       0  \n",
       "4  2019-01-03 08:59:15  banner_click       0  "
      ]
     },
     "execution_count": 4,
     "metadata": {},
     "output_type": "execute_result"
    }
   ],
   "source": [
    "df.head()"
   ]
  },
  {
   "cell_type": "markdown",
   "metadata": {},
   "source": [
    "### EDA\n",
    "\n",
    "Lets's look at the different banner types:"
   ]
  },
  {
   "cell_type": "code",
   "execution_count": 5,
   "metadata": {
    "scrolled": true
   },
   "outputs": [
    {
     "data": {
      "text/plain": [
       "clothes             1786438\n",
       "company             1725056\n",
       "sneakers            1703342\n",
       "sports_nutrition    1634625\n",
       "accessories         1621759\n",
       "Name: product, dtype: int64"
      ]
     },
     "execution_count": 5,
     "metadata": {},
     "output_type": "execute_result"
    }
   ],
   "source": [
    "df['product'].value_counts()"
   ]
  },
  {
   "cell_type": "code",
   "execution_count": 24,
   "metadata": {},
   "outputs": [
    {
     "data": {
      "text/plain": [
       "product           target\n",
       "accessories       0         1577208\n",
       "                  1           44551\n",
       "clothes           0         1673723\n",
       "                  1          112715\n",
       "company           0         1725056\n",
       "sneakers          0         1635623\n",
       "                  1           67719\n",
       "sports_nutrition  0         1610888\n",
       "                  1           23737\n",
       "Name: target, dtype: int64"
      ]
     },
     "execution_count": 24,
     "metadata": {},
     "output_type": "execute_result"
    }
   ],
   "source": [
    "df.groupby('product')['target'].value_counts()"
   ]
  },
  {
   "cell_type": "markdown",
   "metadata": {},
   "source": [
    "Let's look at the range of time-stamps on these data:"
   ]
  },
  {
   "cell_type": "code",
   "execution_count": 79,
   "metadata": {},
   "outputs": [
    {
     "data": {
      "text/plain": [
       "'2019-01-01 00:00:03'"
      ]
     },
     "execution_count": 79,
     "metadata": {},
     "output_type": "execute_result"
    }
   ],
   "source": [
    "df['time'].min()"
   ]
  },
  {
   "cell_type": "code",
   "execution_count": 63,
   "metadata": {},
   "outputs": [
    {
     "data": {
      "text/plain": [
       "'2019-05-31 23:59:58'"
      ]
     },
     "execution_count": 63,
     "metadata": {},
     "output_type": "execute_result"
    }
   ],
   "source": [
    "df['time'].max()"
   ]
  },
  {
   "cell_type": "markdown",
   "metadata": {},
   "source": [
    "Let's check the counts of the different site version values:"
   ]
  },
  {
   "cell_type": "code",
   "execution_count": 51,
   "metadata": {},
   "outputs": [
    {
     "data": {
      "text/plain": [
       "mobile     6088335\n",
       "desktop    2382885\n",
       "Name: site_version, dtype: int64"
      ]
     },
     "execution_count": 51,
     "metadata": {},
     "output_type": "execute_result"
    }
   ],
   "source": [
    "df['site_version'].value_counts()"
   ]
  },
  {
   "cell_type": "markdown",
   "metadata": {},
   "source": [
    "### Experimental Setup\n",
    "\n",
    "We need to filter by site_version, time, and by product:"
   ]
  },
  {
   "cell_type": "code",
   "execution_count": 65,
   "metadata": {},
   "outputs": [],
   "source": [
    "df_AB = df[(df['site_version'] == 'desktop') &\n",
    "           (df['time'] >= '2019-05-01') &\n",
    "           ((df['product'] == 'accessories') | (df['product'] == 'sneakers'))].reset_index()"
   ]
  },
  {
   "cell_type": "code",
   "execution_count": 66,
   "metadata": {},
   "outputs": [
    {
     "data": {
      "text/html": [
       "<div>\n",
       "<style scoped>\n",
       "    .dataframe tbody tr th:only-of-type {\n",
       "        vertical-align: middle;\n",
       "    }\n",
       "\n",
       "    .dataframe tbody tr th {\n",
       "        vertical-align: top;\n",
       "    }\n",
       "\n",
       "    .dataframe thead th {\n",
       "        text-align: right;\n",
       "    }\n",
       "</style>\n",
       "<table border=\"1\" class=\"dataframe\">\n",
       "  <thead>\n",
       "    <tr style=\"text-align: right;\">\n",
       "      <th></th>\n",
       "      <th>index</th>\n",
       "      <th>order_id</th>\n",
       "      <th>user_id</th>\n",
       "      <th>page_id</th>\n",
       "      <th>product</th>\n",
       "      <th>site_version</th>\n",
       "      <th>time</th>\n",
       "      <th>title</th>\n",
       "      <th>target</th>\n",
       "    </tr>\n",
       "  </thead>\n",
       "  <tbody>\n",
       "    <tr>\n",
       "      <th>218783</th>\n",
       "      <td>8471156</td>\n",
       "      <td>f549b8a88b84d5b6813bb98c03b3270a</td>\n",
       "      <td>f57ab001ccae51094cdbf91e6a7a1db8</td>\n",
       "      <td>07403df14c267a77b7df508eed9e651c</td>\n",
       "      <td>sneakers</td>\n",
       "      <td>desktop</td>\n",
       "      <td>2019-05-23 10:22:00</td>\n",
       "      <td>banner_show</td>\n",
       "      <td>0</td>\n",
       "    </tr>\n",
       "    <tr>\n",
       "      <th>218784</th>\n",
       "      <td>8471167</td>\n",
       "      <td>566828e3ea907d4966d4965b28265986</td>\n",
       "      <td>5df0d1240a575396e75223a589e44295</td>\n",
       "      <td>f2dff4a4f409d399398e583da973983f</td>\n",
       "      <td>accessories</td>\n",
       "      <td>desktop</td>\n",
       "      <td>2019-05-24 06:49:26</td>\n",
       "      <td>banner_show</td>\n",
       "      <td>0</td>\n",
       "    </tr>\n",
       "    <tr>\n",
       "      <th>218785</th>\n",
       "      <td>8471202</td>\n",
       "      <td>f37363d980d062d9ccdfd58f793a36c8</td>\n",
       "      <td>fd645f04aa9c16781d2173bcf38592dd</td>\n",
       "      <td>f10503fd6aa0473bad30f78150035a75</td>\n",
       "      <td>sneakers</td>\n",
       "      <td>desktop</td>\n",
       "      <td>2019-05-29 17:17:27</td>\n",
       "      <td>banner_show</td>\n",
       "      <td>0</td>\n",
       "    </tr>\n",
       "    <tr>\n",
       "      <th>218786</th>\n",
       "      <td>8471207</td>\n",
       "      <td>982c47ce571d715bd1e5ebcb185500f9</td>\n",
       "      <td>d73ee197a864f988f7edf1cc284c44c3</td>\n",
       "      <td>01f91b0ef0f8b9807232eb4e5a02babb</td>\n",
       "      <td>accessories</td>\n",
       "      <td>desktop</td>\n",
       "      <td>2019-05-27 18:50:51</td>\n",
       "      <td>banner_show</td>\n",
       "      <td>0</td>\n",
       "    </tr>\n",
       "    <tr>\n",
       "      <th>218787</th>\n",
       "      <td>8471215</td>\n",
       "      <td>70c275428b8d53eef294d0529253b694</td>\n",
       "      <td>59e736f90b5f8003072bf0eb271ddb86</td>\n",
       "      <td>7bc3a33568d00773d5b58d6c7348bf3e</td>\n",
       "      <td>accessories</td>\n",
       "      <td>desktop</td>\n",
       "      <td>2019-05-23 14:07:00</td>\n",
       "      <td>banner_show</td>\n",
       "      <td>0</td>\n",
       "    </tr>\n",
       "  </tbody>\n",
       "</table>\n",
       "</div>"
      ],
      "text/plain": [
       "          index                          order_id  \\\n",
       "218783  8471156  f549b8a88b84d5b6813bb98c03b3270a   \n",
       "218784  8471167  566828e3ea907d4966d4965b28265986   \n",
       "218785  8471202  f37363d980d062d9ccdfd58f793a36c8   \n",
       "218786  8471207  982c47ce571d715bd1e5ebcb185500f9   \n",
       "218787  8471215  70c275428b8d53eef294d0529253b694   \n",
       "\n",
       "                                 user_id                           page_id  \\\n",
       "218783  f57ab001ccae51094cdbf91e6a7a1db8  07403df14c267a77b7df508eed9e651c   \n",
       "218784  5df0d1240a575396e75223a589e44295  f2dff4a4f409d399398e583da973983f   \n",
       "218785  fd645f04aa9c16781d2173bcf38592dd  f10503fd6aa0473bad30f78150035a75   \n",
       "218786  d73ee197a864f988f7edf1cc284c44c3  01f91b0ef0f8b9807232eb4e5a02babb   \n",
       "218787  59e736f90b5f8003072bf0eb271ddb86  7bc3a33568d00773d5b58d6c7348bf3e   \n",
       "\n",
       "            product site_version                 time        title  target  \n",
       "218783     sneakers      desktop  2019-05-23 10:22:00  banner_show       0  \n",
       "218784  accessories      desktop  2019-05-24 06:49:26  banner_show       0  \n",
       "218785     sneakers      desktop  2019-05-29 17:17:27  banner_show       0  \n",
       "218786  accessories      desktop  2019-05-27 18:50:51  banner_show       0  \n",
       "218787  accessories      desktop  2019-05-23 14:07:00  banner_show       0  "
      ]
     },
     "execution_count": 66,
     "metadata": {},
     "output_type": "execute_result"
    }
   ],
   "source": [
    "df_AB.tail()"
   ]
  },
  {
   "cell_type": "markdown",
   "metadata": {},
   "source": [
    "### The Hypotheses\n",
    "\n",
    "NULL: Customers who saw the company banner were no more or less likely to buy than customers who saw the clothes banner.\n",
    "\n",
    "ALTERNATIVE: Customers who saw the company banner were more or less likely to buy than customers who saw the clothers banner."
   ]
  },
  {
   "cell_type": "markdown",
   "metadata": {},
   "source": [
    "### Setting a Threshold\n",
    "\n",
    "We'll set a false-positive rate of $\\alpha = 0.05$."
   ]
  },
  {
   "cell_type": "markdown",
   "metadata": {},
   "source": [
    "### Preparing Fisher's Test\n",
    "\n",
    "Fisher's Test is an exact calculation of a $p$-value that requires four quantities: the respective numbers of 1's and 0's for each class."
   ]
  },
  {
   "cell_type": "code",
   "execution_count": 68,
   "metadata": {},
   "outputs": [],
   "source": [
    "df_A = df_AB[df_AB['product'] == 'accessories']\n",
    "df_B = df_AB[df_AB['product'] == 'sneakers']"
   ]
  },
  {
   "cell_type": "code",
   "execution_count": 69,
   "metadata": {},
   "outputs": [
    {
     "data": {
      "text/plain": [
       "(4649, 6868, 102765, 104506)"
      ]
     },
     "execution_count": 69,
     "metadata": {},
     "output_type": "execute_result"
    }
   ],
   "source": [
    "a = sum(df_A['target'])\n",
    "b = sum(df_B['target'])\n",
    "\n",
    "c = len(df_A['target']) - a\n",
    "d = len(df_B['target']) - b\n",
    "\n",
    "a, b, c, d"
   ]
  },
  {
   "cell_type": "markdown",
   "metadata": {},
   "source": [
    "### Calculation\n",
    "\n",
    "Fisher's Test tells us that the $p$-value corresponding to our distribution is given by:\n",
    "\n",
    "$\\Large p = \\frac{(a+b)!(c+d)!(a+c)!(b+d)!}{a!b!c!d!n!}$"
   ]
  },
  {
   "cell_type": "code",
   "execution_count": 75,
   "metadata": {},
   "outputs": [],
   "source": [
    "ab_choose_a = comb(a+b, a, exact=True)"
   ]
  },
  {
   "cell_type": "code",
   "execution_count": 77,
   "metadata": {},
   "outputs": [],
   "source": [
    "cd_choose_c = comb(c+d, c, exact=True)"
   ]
  },
  {
   "cell_type": "code",
   "execution_count": 72,
   "metadata": {},
   "outputs": [],
   "source": [
    "n_choose_ac = comb(a+b+c+d, a+c, exact=True)"
   ]
  },
  {
   "cell_type": "code",
   "execution_count": 78,
   "metadata": {},
   "outputs": [
    {
     "data": {
      "text/plain": [
       "7.220281921757564e-84"
      ]
     },
     "execution_count": 78,
     "metadata": {},
     "output_type": "execute_result"
    }
   ],
   "source": [
    "p = ab_choose_a * cd_choose_c / n_choose_ac\n",
    "p"
   ]
  },
  {
   "cell_type": "markdown",
   "metadata": {},
   "source": [
    "This extremely low $p$-value suggests that these two groups are genuinely performing differently. In particular, the desktop customers who saw the sneakers banner in May 2019 bought at a higher rate than the desktop customers who saw the accessories banner in May 2019."
   ]
  },
  {
   "cell_type": "markdown",
   "metadata": {},
   "source": [
    "## Example 2"
   ]
  },
  {
   "cell_type": "code",
   "execution_count": null,
   "metadata": {},
   "outputs": [],
   "source": []
  }
 ],
 "metadata": {
  "kernelspec": {
   "display_name": "Python 3",
   "language": "python",
   "name": "python3"
  },
  "language_info": {
   "codemirror_mode": {
    "name": "ipython",
    "version": 3
   },
   "file_extension": ".py",
   "mimetype": "text/x-python",
   "name": "python",
   "nbconvert_exporter": "python",
   "pygments_lexer": "ipython3",
   "version": "3.7.2"
  }
 },
 "nbformat": 4,
 "nbformat_minor": 4
}
